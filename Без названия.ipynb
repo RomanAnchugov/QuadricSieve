{
 "cells": [
  {
   "cell_type": "code",
   "execution_count": 6,
   "metadata": {},
   "outputs": [],
   "source": [
    "N = 112093\n",
    "B = 11 #Граница гладкости факторной базы\n",
    "A = 40 #Ширина диапозона поиска"
   ]
  },
  {
   "cell_type": "code",
   "execution_count": 7,
   "metadata": {},
   "outputs": [
    {
     "data": {
      "text/plain": [
       "335.000000000000"
      ]
     },
     "execution_count": 7,
     "metadata": {},
     "output_type": "execute_result"
    }
   ],
   "source": [
    "m = ceil(sqrt(N)); n(m)"
   ]
  },
  {
   "cell_type": "code",
   "execution_count": 10,
   "metadata": {},
   "outputs": [
    {
     "data": {
      "text/plain": [
       "[2, 3, 5, 7]"
      ]
     },
     "execution_count": 10,
     "metadata": {},
     "output_type": "execute_result"
    }
   ],
   "source": [
    "factor_base = []\n",
    "for prime in primes(2, B):\n",
    "    if kronecker(prime,N):\n",
    "        factor_base.append(prime)\n",
    "factor_base"
   ]
  },
  {
   "cell_type": "code",
   "execution_count": 23,
   "metadata": {},
   "outputs": [
    {
     "name": "stdout",
     "output_type": "stream",
     "text": [
      "5\n",
      "True\n",
      "2\n",
      "True\n",
      "337\n",
      "False\n",
      "2\n",
      "True\n",
      "3\n",
      "True\n",
      "2\n",
      "True\n",
      "11\n",
      "True\n",
      "2\n",
      "True\n",
      "7\n",
      "True\n",
      "2\n",
      "True\n",
      "3\n",
      "True\n",
      "2\n",
      "True\n",
      "347\n",
      "False\n",
      "2\n",
      "True\n",
      "349\n",
      "False\n",
      "2\n",
      "True\n",
      "3\n",
      "True\n",
      "2\n",
      "True\n",
      "353\n",
      "False\n",
      "2\n",
      "True\n",
      "5\n",
      "True\n",
      "2\n",
      "True\n",
      "3\n",
      "True\n",
      "2\n",
      "True\n",
      "359\n",
      "False\n",
      "2\n",
      "True\n",
      "19\n",
      "False\n",
      "2\n",
      "True\n",
      "3\n",
      "True\n",
      "2\n",
      "True\n",
      "5\n",
      "True\n",
      "2\n",
      "True\n",
      "367\n",
      "False\n",
      "2\n",
      "True\n",
      "3\n",
      "True\n",
      "2\n",
      "True\n",
      "7\n",
      "True\n",
      "2\n",
      "True\n",
      "373\n",
      "False\n",
      "2\n",
      "True\n",
      "3\n",
      "True\n"
     ]
    }
   ],
   "source": [
    "D_table = dict() #таблица, с x=m+i ключём и q(x)=x^2-N значением. Содержит только гладкие числа\n",
    "D_table[335] = 132\n",
    "for i in range(m, m + A + 1):\n",
    "    factors_list = list(factor(i))\n",
    "    print(factors_list[0][0])\n",
    "    print(any(map(lambda factor: factor[0] <= B,factors_list)))\n",
    "#     D_table[i] = i^2 - N\n",
    "    "
   ]
  }
 ],
 "metadata": {
  "kernelspec": {
   "display_name": "SageMath 9.2",
   "language": "sage",
   "name": "sagemath"
  },
  "language_info": {
   "codemirror_mode": {
    "name": "ipython",
    "version": 3
   },
   "file_extension": ".py",
   "mimetype": "text/x-python",
   "name": "python",
   "nbconvert_exporter": "python",
   "pygments_lexer": "ipython3",
   "version": "3.8.5"
  }
 },
 "nbformat": 4,
 "nbformat_minor": 4
}
