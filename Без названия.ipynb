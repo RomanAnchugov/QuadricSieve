{
 "cells": [
  {
   "cell_type": "code",
   "execution_count": 6,
   "metadata": {},
   "outputs": [],
   "source": [
    "N = 112093\n",
    "B = 11 #Граница гладкости факторной базы\n",
    "A = 40 #Ширина диапозона поиска"
   ]
  },
  {
   "cell_type": "code",
   "execution_count": 7,
   "metadata": {},
   "outputs": [
    {
     "data": {
      "text/plain": [
       "335.000000000000"
      ]
     },
     "execution_count": 7,
     "metadata": {},
     "output_type": "execute_result"
    }
   ],
   "source": [
    "m = ceil(sqrt(N)); n(m)"
   ]
  },
  {
   "cell_type": "code",
   "execution_count": 10,
   "metadata": {},
   "outputs": [
    {
     "data": {
      "text/plain": [
       "[2, 3, 5, 7]"
      ]
     },
     "execution_count": 10,
     "metadata": {},
     "output_type": "execute_result"
    }
   ],
   "source": [
    "factor_base = []\n",
    "for prime in primes(2, B):\n",
    "    if kronecker(prime,N):\n",
    "        factor_base.append(prime)\n",
    "factor_base"
   ]
  },
  {
   "cell_type": "code",
   "execution_count": 33,
   "metadata": {},
   "outputs": [
    {
     "name": "stdout",
     "output_type": "stream",
     "text": [
      "803\n",
      "[(11, 1), (73, 1)]\n",
      "1476\n",
      "[(2, 2), (3, 2), (41, 1)]\n",
      "2151\n",
      "[(3, 2), (239, 1)]\n",
      "2828\n",
      "[(2, 2), (7, 1), (101, 1)]\n",
      "3507\n",
      "[(3, 1), (7, 1), (167, 1)]\n",
      "4188\n",
      "[(2, 2), (3, 1), (349, 1)]\n",
      "4871\n",
      "[(4871, 1)]\n",
      "5556\n",
      "[(2, 2), (3, 1), (463, 1)]\n",
      "6243\n",
      "[(3, 1), (2081, 1)]\n",
      "6932\n",
      "[(2, 2), (1733, 1)]\n",
      "9011\n",
      "[(9011, 1)]\n",
      "9708\n",
      "[(2, 2), (3, 1), (809, 1)]\n",
      "10407\n",
      "[(3, 1), (3469, 1)]\n",
      "11108\n",
      "[(2, 2), (2777, 1)]\n",
      "11811\n",
      "[(3, 1), (31, 1), (127, 1)]\n",
      "12516\n",
      "[(2, 2), (3, 1), (7, 1), (149, 1)]\n",
      "13223\n",
      "[(7, 1), (1889, 1)]\n",
      "13932\n",
      "[(2, 2), (3, 4), (43, 1)]\n",
      "14643\n",
      "[(3, 2), (1627, 1)]\n",
      "15356\n",
      "[(2, 2), (11, 1), (349, 1)]\n",
      "16071\n",
      "[(3, 1), (11, 1), (487, 1)]\n",
      "16788\n",
      "[(2, 2), (3, 1), (1399, 1)]\n",
      "17507\n",
      "[(7, 1), (41, 1), (61, 1)]\n",
      "18228\n",
      "[(2, 2), (3, 1), (7, 2), (31, 1)]\n",
      "18951\n",
      "[(3, 1), (6317, 1)]\n",
      "19676\n",
      "[(2, 2), (4919, 1)]\n",
      "20403\n",
      "[(3, 2), (2267, 1)]\n",
      "21132\n",
      "[(2, 2), (3, 2), (587, 1)]\n",
      "21863\n",
      "[(21863, 1)]\n",
      "22596\n",
      "[(2, 2), (3, 1), (7, 1), (269, 1)]\n",
      "23331\n",
      "[(3, 1), (7, 1), (11, 1), (101, 1)]\n",
      "24068\n",
      "[(2, 2), (11, 1), (547, 1)]\n",
      "24807\n",
      "[(3, 1), (8269, 1)]\n",
      "25548\n",
      "[(2, 2), (3, 1), (2129, 1)]\n",
      "26291\n",
      "[(61, 1), (431, 1)]\n",
      "27036\n",
      "[(2, 2), (3, 2), (751, 1)]\n",
      "28532\n",
      "[(2, 2), (7, 1), (1019, 1)]\n"
     ]
    },
    {
     "data": {
      "text/plain": [
       "{335: 132, 346: 7623, 347: 8316, 374: 27783}"
      ]
     },
     "execution_count": 33,
     "metadata": {},
     "output_type": "execute_result"
    }
   ],
   "source": [
    "D_table = dict() #таблица, с x=m+i ключём и q(x)=x^2-N значением. Содержит только гладкие числа\n",
    "for i in range(m, m + A + 1):\n",
    "    factors_list = list(factor(i^2-N))\n",
    "    if not any(map(lambda factor: factor[0] > B,factors_list)):\n",
    "        D_table[i] = i^2 - N\n",
    "    else:\n",
    "        print(i^2-N)\n",
    "        print(factors_list)\n",
    "D_table"
   ]
  }
 ],
 "metadata": {
  "kernelspec": {
   "display_name": "SageMath 9.2",
   "language": "sage",
   "name": "sagemath"
  },
  "language_info": {
   "codemirror_mode": {
    "name": "ipython",
    "version": 3
   },
   "file_extension": ".py",
   "mimetype": "text/x-python",
   "name": "python",
   "nbconvert_exporter": "python",
   "pygments_lexer": "ipython3",
   "version": "3.8.5"
  }
 },
 "nbformat": 4,
 "nbformat_minor": 4
}
